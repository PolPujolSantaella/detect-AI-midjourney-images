{
 "cells": [
  {
   "cell_type": "markdown",
   "id": "e7eefa98",
   "metadata": {},
   "source": [
    "# Detecting Midjourney Images via Feature Engineering & Classification"
   ]
  },
  {
   "cell_type": "markdown",
   "id": "eb24925b",
   "metadata": {},
   "source": [
    "**Objectives**\n",
    "\n",
    "- **Engineer Discriminative Features**\n",
    "    Develop and extract features that effectively separate Stable Diffusion (AI-generated) images from authentic camera-captured photos using frequency, color, and texture analysis\n",
    "\n",
    "- **Build Reproducible Pipeline**\n",
    "\n",
    "    Construct a robust feature extraction pipeline that generates a tabular dataset suitable for ML. Ensure consistency and reproducibility across experiments.\n",
    "\n",
    "- **Train & Evaluate Classifiers**\n",
    "\n",
    "    Implement a classifier architectures such as Random Forest, XGBoost, SVM or Neural Networks. Rigorously evaluate performance using industry-standard metrics and confusion matrices\n",
    "\n",
    "- **Quantify Feature Relevance**\n",
    "\n",
    "    Apply multiple interpretability techniques such as Gini importance. Permutation importance, and SHAP values to understand which features drive classification decisions.\n",
    "\n",
    "\n",
    "**Dataset Structure**\n",
    "```bash\n",
    "imagenet_midjourney/\n",
    "|----test/ \n",
    "| |----ai/ \n",
    "| | |--[AI-generated images] (Stable Diffusion/Midjourney) \n",
    "| | Label: 1 (fake) \n",
    "| |----nature/ \n",
    "| | |--[Natural camera images] \n",
    "| | (Non-AI photographs) \n",
    "| | Label: 0 (real)\n",
    "```"
   ]
  },
  {
   "cell_type": "markdown",
   "id": "861f9abb",
   "metadata": {},
   "source": [
    "## Imports"
   ]
  },
  {
   "cell_type": "code",
   "execution_count": 18,
   "id": "7baac7a5",
   "metadata": {},
   "outputs": [
    {
     "name": "stderr",
     "output_type": "stream",
     "text": [
      "c:\\Users\\polpu\\Desktop\\GitHub Repositories\\detect-AI-midjourney-images\\venv\\Lib\\site-packages\\tqdm\\auto.py:21: TqdmWarning: IProgress not found. Please update jupyter and ipywidgets. See https://ipywidgets.readthedocs.io/en/stable/user_install.html\n",
      "  from .autonotebook import tqdm as notebook_tqdm\n"
     ]
    }
   ],
   "source": [
    "import os\n",
    "import cv2\n",
    "import numpy as np\n",
    "import pandas as pd\n",
    "\n",
    "from skimage import io, color, img_as_ubyte\n",
    "from tqdm import tqdm\n",
    "\n",
    "from scipy.stats import linregress, gmean, pearsonr, kurtosis\n",
    "\n",
    "from skimage.feature import graycomatrix, graycoprops\n",
    "\n",
    "from sklearn.model_selection import train_test_split, StratifiedKFold, GridSearchCV\n",
    "from sklearn.ensemble import RandomForestClassifier\n",
    "from sklearn.svm import SVC\n",
    "from sklearn.preprocessing import StandardScaler\n",
    "from sklearn.pipeline import Pipeline\n",
    "from xgboost import XGBClassifier\n",
    "from sklearn.metrics import (\n",
    "    confusion_matrix, accuracy_score, precision_score,\n",
    "    recall_score, f1_score, classification_report\n",
    ")\n",
    "\n",
    "import matplotlib.pyplot as plt\n",
    "import seaborn as sns\n",
    "\n",
    "import shap\n",
    "\n",
    "DATASET_DIR = \"imagenet_midjourney/test\"\n",
    "\n",
    "# LABELS TO CLASSIFY IMAGES\n",
    "CATEGORIES = {\n",
    "    \"ai\": 1,\n",
    "    \"nature\": 0\n",
    "}\n",
    "\n",
    "IMG_SIZE = (1024, 1024) # 1024x1024px to capture the features better\n",
    "COLOR_MODE = 'rgb'"
   ]
  },
  {
   "cell_type": "markdown",
   "id": "e6c34c2c",
   "metadata": {},
   "source": [
    "## Image Loading & Preprocessing"
   ]
  },
  {
   "cell_type": "markdown",
   "id": "b150ef53",
   "metadata": {},
   "source": [
    "This function loads and preprocesses images, generating the feature matrix (`X`), corresponding labels (`y`), and file paths. \n",
    "\n",
    "For each image, it performs format validation, converts the data to either RGB or grayscale depending on the `color_mode` parameter, and ensures consistency across different image types. \n",
    "\n",
    "Each image is resized to 1024×1024 pixels and normalized to a [0, 1] range, standardizing inputs for subsequent machine learning workflows and improving model training stability."
   ]
  },
  {
   "cell_type": "code",
   "execution_count": 3,
   "id": "7e64392d",
   "metadata": {},
   "outputs": [],
   "source": [
    "def load_and_preprocess_images(base_dir, categories, img_size=(1024, 1024), color_mode='rgb'):\n",
    "    X, y, paths = [], [], []\n",
    "\n",
    "    for category, label in categories.items():\n",
    "        folder = os.path.join(base_dir, category)\n",
    "        if not os.path.exists(folder):\n",
    "            print(f\"Folder not encountered: {folder}\")\n",
    "            continue\n",
    "\n",
    "        for filename in tqdm(os.listdir(folder), desc=f\"Loading {category}\"):\n",
    "            file_path = os.path.join(folder, filename)\n",
    "\n",
    "            if not filename.lower().endswith(('.png', '.jpg', '.jpeg', '.bmp', '.tiff', '.webp')):\n",
    "                continue\n",
    "\n",
    "            try:\n",
    "                image = io.imread(file_path)\n",
    "\n",
    "                if color_mode == 'rgb':\n",
    "                    if image.ndim == 2:\n",
    "                        image = color.gray2rgb(image)\n",
    "                    elif image.shape[2] == 4:\n",
    "                        image = color.rgba2rgb(image)\n",
    "                elif color_mode == 'gray':\n",
    "                    image = color.rgb2gray(image)\n",
    "\n",
    "                image = cv2.resize(img_as_ubyte(image), img_size)\n",
    "\n",
    "                image = image.astype(np.float32) / 255.0\n",
    "\n",
    "                X.append(image)\n",
    "                y.append(label)\n",
    "                paths.append(file_path)\n",
    "                \n",
    "            except Exception as e:\n",
    "                print(f\"Error processing {file_path}: {e}\")\n",
    "                continue\n",
    "\n",
    "    X = np.array(X)\n",
    "    y = np.array(y)\n",
    "    return X, y, paths"
   ]
  },
  {
   "cell_type": "code",
   "execution_count": 4,
   "id": "7e8bfaf0",
   "metadata": {},
   "outputs": [
    {
     "name": "stderr",
     "output_type": "stream",
     "text": [
      "Loading ai: 100%|██████████| 500/500 [00:18<00:00, 27.48it/s]\n",
      "Loading nature: 100%|██████████| 500/500 [00:06<00:00, 80.56it/s]\n"
     ]
    },
    {
     "name": "stdout",
     "output_type": "stream",
     "text": [
      "Total imágenes cargadas: 1000\n",
      "Dimensión de ejemplo: (1024, 1024, 3)\n"
     ]
    }
   ],
   "source": [
    "X, y, image_paths = load_and_preprocess_images(DATASET_DIR, CATEGORIES, IMG_SIZE, COLOR_MODE)\n",
    "\n",
    "print(f\"Total imágenes cargadas: {len(X)}\")\n",
    "print(f\"Dimensión de ejemplo: {X[0].shape}\")"
   ]
  },
  {
   "cell_type": "markdown",
   "id": "32e11400",
   "metadata": {},
   "source": [
    "## Feature Computation"
   ]
  },
  {
   "cell_type": "markdown",
   "id": "9ca318ba",
   "metadata": {},
   "source": [
    "Extract per-image features across frequency, color, and texture domains. Generate comprehensive feature vectors for each sample."
   ]
  },
  {
   "cell_type": "markdown",
   "id": "51269539",
   "metadata": {},
   "source": [
    "### Feature Family I: Frequency & Spectrum Analysis (FFT)"
   ]
  },
  {
   "cell_type": "markdown",
   "id": "cde5f2d7",
   "metadata": {},
   "source": [
    "This function extracts 4 frequency features from an image using the Fast Fourier Transform (FFT) to capture its structural and textural properties:\n",
    "\n",
    "1. `radial_power_spectrum_mean`:\n",
    "\n",
    "    Represents the average energy distributed across spatial frequencies, reflecting the overall level of texture or detail in the image. Higher values suggest more complex visual patterns.\n",
    "\n",
    "2. `spectral_slope`: \n",
    "\n",
    "    Obtained from the linear regression between log power and log frequency; it describes how quickly energy decays across frequencies. A steep negative slope indicates smoother images, while flatter slopes imply higher texture complexity.\n",
    "\n",
    "3. `spectral_flatness`: \n",
    "\n",
    "    Measures how uniform the frequency distribution is. Values near 1 indicate white-noise-like textures (flat spectrum), whereas lower values reveal dominant frequencies or structured patterns.\n",
    "\n",
    "4. `high_freq_ratio`: \n",
    "\n",
    "    Quantifies the proportion of energy contained in higher frequencies compared to the total energy. This captures the sharpness and fine detail content of the image, with higher ratios corresponding to crisper, more detailed visuals.\n"
   ]
  },
  {
   "cell_type": "code",
   "execution_count": 5,
   "id": "d9aee6da",
   "metadata": {},
   "outputs": [],
   "source": [
    "def compute_fft_features(image):\n",
    "    gray = cv2.cvtColor((image * 255).astype(np.uint8), cv2.COLOR_RGB2GRAY)\n",
    "    gray = gray.astype(np.float32) / 255.0\n",
    "\n",
    "    fft2 = np.fft.fft2(gray)\n",
    "    fshift = np.fft.fftshift(fft2)\n",
    "    magnitude_spectrum = np.abs(fshift) ** 2\n",
    "\n",
    "    rows, cols = gray.shape\n",
    "    crow, ccol = rows // 2, cols // 2\n",
    "    y, x = np.ogrid[:rows, :cols]\n",
    "    radius = np.sqrt((x - ccol) ** 2 + (y - crow) ** 2).astype(np.int32)\n",
    "\n",
    "    radial_profile = np.bincount(radius.ravel(), magnitude_spectrum.ravel()) / np.bincount(radius.ravel())\n",
    "    radial_profile = radial_profile[1:]\n",
    "\n",
    "    radial_power_spectrum_mean = np.mean(radial_profile)\n",
    "\n",
    "    freqs = np.arange(1, len(radial_profile) + 1)\n",
    "    log_freqs = np.log(freqs)\n",
    "    log_power = np.log(radial_profile + 1e-8)\n",
    "    slope, intercept, _, _, _ = linregress(log_freqs, log_power)\n",
    "    spectral_slope = slope\n",
    "\n",
    "    spectral_flatness = gmean(radial_profile + 1e-8) / (np.mean(radial_profile) + 1e-8)\n",
    "\n",
    "    cutoff = len(radial_profile) // 3\n",
    "    high_freq_energy = np.sum(radial_profile[-cutoff:])\n",
    "    total_energy = np.sum(radial_profile)\n",
    "    high_freq_ratio = high_freq_energy / (total_energy + 1e-8)\n",
    "\n",
    "    return {\n",
    "        'radial_power_spectrum_mean': radial_power_spectrum_mean,\n",
    "        'spectral_slope': spectral_slope,\n",
    "        'spectral_flatness': spectral_flatness,\n",
    "        'high_freq_ratio': high_freq_ratio\n",
    "    }\n"
   ]
  },
  {
   "cell_type": "markdown",
   "id": "99b6f555",
   "metadata": {},
   "source": [
    "### Feature Family II: Colo & Chrominance Analysis"
   ]
  },
  {
   "cell_type": "markdown",
   "id": "76ac09e7",
   "metadata": {},
   "source": [
    "This set of functions extracts color-based statistical features that describe inter-channel relationships and chromatic texture. The helper functions safe_pearsonr and safe_kurtosis provide robust correlation and kurtosis calculations that safely handle near-constant or invalid data without producing NaNs. The main function, compute_color_features, derives six metrics:\n",
    "\n",
    "1. `rgb_corr_mean`:\n",
    "    \n",
    "    The average Pearson correlation among the R, G, and B channels, indicating how similar their intensity variations are. High values suggest color homogeneity, while lower ones reflect richer color diversity.\n",
    "\n",
    "2. `rgb_corr_std`:\n",
    "\n",
    "    The standard deviation of those correlations, capturing how unevenly the color channels relate to each other.\n",
    "\n",
    "3. `cb_kurtosis and cr_kurtosis`:\n",
    " \n",
    "    Measure the peakedness or tailedness of the chroma component distributions in the YCbCr color space, reflecting color concentration or dispersion.\n",
    "\n",
    "4. `cb_residual_kurtosis and cr_residual_kurtosis`:\n",
    "\n",
    "    Computed from the Laplacian-filtered chroma channels, these quantify the sharpness and local variations in color texture, offering insight into how abrupt or smooth the chromatic transitions are within the image."
   ]
  },
  {
   "cell_type": "code",
   "execution_count": 6,
   "id": "33cf45a5",
   "metadata": {},
   "outputs": [],
   "source": [
    "def safe_pearsonr(a, b):\n",
    "    if np.std(a) < 1e-8 or np.std(b) < 1e-8:\n",
    "        return 0.0\n",
    "    r, _ = pearsonr(a, b)\n",
    "    return np.nan_to_num(r, nan=0.0, posinf=0.0, neginf=0.0)\n",
    "\n",
    "def safe_kurtosis(x):\n",
    "    if x.size == 0 or np.allclose(x, x.flat[0], atol=1e-8) or np.std(x) < 1e-8:\n",
    "        return 0.0\n",
    "    val = kurtosis(x, fisher=False)\n",
    "    return np.nan_to_num(val, nan=0.0, posinf=0.0, neginf=0.0)\n",
    "\n",
    "def compute_color_features(image):\n",
    "    img_8bit = (image * 255).astype(np.uint8)\n",
    "\n",
    "    R = img_8bit[:, :, 0].astype(np.float32).ravel()\n",
    "    G = img_8bit[:, :, 1].astype(np.float32).ravel()\n",
    "    B = img_8bit[:, :, 2].astype(np.float32).ravel()\n",
    "\n",
    "    corr_rg = safe_pearsonr(R, G)\n",
    "    corr_rb = safe_pearsonr(R, B)\n",
    "    corr_gb = safe_pearsonr(G, B)\n",
    "    \n",
    "    rgb_corr_mean = np.mean([corr_rg, corr_rb, corr_gb])\n",
    "    rgb_corr_std = np.std([corr_rg, corr_rb, corr_gb])\n",
    "\n",
    "    ycbcr = cv2.cvtColor(img_8bit, cv2.COLOR_RGB2YCrCb)\n",
    "    Y, Cr, Cb = cv2.split(ycbcr)  \n",
    "    \n",
    "    cb_kurt = safe_kurtosis(Cb.ravel())\n",
    "    cr_kurt = safe_kurtosis(Cr.ravel())\n",
    "\n",
    "    cb_lap = cv2.Laplacian(Cb.astype(np.float32), cv2.CV_32F, ksize=3)\n",
    "    cr_lap = cv2.Laplacian(Cr.astype(np.float32), cv2.CV_32F, ksize=3)\n",
    "\n",
    "    cb_lap = np.clip(cb_lap, -5000, 5000)\n",
    "    cr_lap = np.clip(cr_lap, -5000, 5000)\n",
    "\n",
    "    cb_residual_kurt = safe_kurtosis(cb_lap.ravel())\n",
    "    cr_residual_kurt = safe_kurtosis(cr_lap.ravel())\n",
    "\n",
    "    return {\n",
    "        'rgb_corr_mean': rgb_corr_mean,\n",
    "        'rgb_corr_std': rgb_corr_std,\n",
    "        'cb_kurtosis': cb_kurt,\n",
    "        'cr_kurtosis': cr_kurt,\n",
    "        'cb_residual_kurtosis': cb_residual_kurt,\n",
    "        'cr_residual_kurtosis': cr_residual_kurt\n",
    "    }"
   ]
  },
  {
   "cell_type": "markdown",
   "id": "7a5dd663",
   "metadata": {},
   "source": [
    "### Feature Family III: "
   ]
  },
  {
   "cell_type": "markdown",
   "id": "3b5c0765",
   "metadata": {},
   "source": [
    "The four GLCM-based features quantify different aspects of an image’s texture and spatial structure:\n",
    "\n",
    "1. `Contrast`:\n",
    "\n",
    "    Measures the intensity difference between neighboring pixels. High contrast values indicate sharp transitions and coarse textures, while low values suggest smoother, more uniform areas.\n",
    "\n",
    "2. `Homogeneity`:\n",
    "\n",
    "    Reflects how close the distribution of co-occurring gray levels is to the GLCM diagonal. Higher homogeneity means the image has consistent intensity patterns with minimal local variation.\n",
    "\n",
    "3. `Energy`:\n",
    "\n",
    "    Represents the sum of squared GLCM values, describing textural uniformity. Images with repetitive, orderly textures (like grids or smooth surfaces) exhibit higher energy.\n",
    "\n",
    "4. `Correlation`:\n",
    "\n",
    "    Quantifies the linear relationship between pixel pairs. Strong correlation implies predictable patterns or structured textures, whereas weak correlation points to randomness or noise."
   ]
  },
  {
   "cell_type": "code",
   "execution_count": 7,
   "id": "c29f7d47",
   "metadata": {},
   "outputs": [],
   "source": [
    "def compute_glcm_features(image, levels=64, distances=[1, 2, 4], angles=None):\n",
    "\n",
    "    if angles is None:\n",
    "        angles = [0, np.pi/4, np.pi/2, 3*np.pi/4]\n",
    "\n",
    "    gray = cv2.cvtColor((image * 255).astype(np.uint8), cv2.COLOR_RGB2GRAY)\n",
    "\n",
    "    gray_q = np.floor(gray / (256 / levels)).astype(np.uint8)\n",
    "\n",
    "    glcm = graycomatrix(\n",
    "        gray_q,\n",
    "        distances=distances,\n",
    "        angles=angles,\n",
    "        levels=levels,\n",
    "        symmetric=True,\n",
    "        normed=True\n",
    "    )\n",
    "\n",
    "    props = {}\n",
    "    for prop in ['contrast', 'homogeneity', 'energy', 'correlation']:\n",
    "        vals = graycoprops(glcm, prop)\n",
    "        props[prop] = np.mean(vals)\n",
    "\n",
    "    for k in props:\n",
    "        if np.isnan(props[k]) or np.isinf(props[k]):\n",
    "            props[k] = 0.0\n",
    "\n",
    "    return props"
   ]
  },
  {
   "cell_type": "markdown",
   "id": "9574187a",
   "metadata": {},
   "source": [
    "## Tabular Dataset Creation"
   ]
  },
  {
   "cell_type": "markdown",
   "id": "9d0e5d16",
   "metadata": {},
   "source": [
    "This code block aggregates the previously defined feature extraction methods—FFT, color, and GLCM—into structured numerical arrays suitable for machine learning. For each image in X, it computes its frequency-domain, chromatic, and texture features, storing the results in separate lists. These lists are then converted into NumPy arrays (fft_features, color_features, and texture_features) to facilitate downstream model training. Any invalid numerical values (NaN or infinities) are replaced with zeros to ensure dataset integrity. Finally, the script prints the shape of each feature matrix and reports any remaining NaN values, serving as a quick sanity check before concatenation or model input."
   ]
  },
  {
   "cell_type": "code",
   "execution_count": 8,
   "id": "0464bd61",
   "metadata": {},
   "outputs": [
    {
     "name": "stderr",
     "output_type": "stream",
     "text": [
      "Extracting features: 100%|██████████| 1000/1000 [05:07<00:00,  3.25it/s]"
     ]
    },
    {
     "name": "stdout",
     "output_type": "stream",
     "text": [
      "FFT features shape: (1000, 4)\n",
      "Color features shape: (1000, 6)\n",
      "GLCM features shape: (1000, 4)\n",
      "NaN restantes: 0\n"
     ]
    },
    {
     "name": "stderr",
     "output_type": "stream",
     "text": [
      "\n"
     ]
    }
   ],
   "source": [
    "fft_feature_list = []\n",
    "color_features_list = []\n",
    "glcm_feature_list = []\n",
    "\n",
    "for img in tqdm(X, desc=\"Extracting features\"):\n",
    "    fft = compute_fft_features(img)\n",
    "    color = compute_color_features(img)\n",
    "    texture = compute_glcm_features(img)\n",
    "\n",
    "    fft_feature_list.append(list(fft.values()))\n",
    "    color_features_list.append(list(color.values()))\n",
    "    glcm_feature_list.append(list(texture.values()))\n",
    "\n",
    "fft_features = np.array(fft_feature_list)\n",
    "color_features = np.array(color_features_list)\n",
    "texture_features = np.array(glcm_feature_list)\n",
    "\n",
    "fft_features = np.nan_to_num(fft_features, nan=0.0, posinf=0.0, neginf=0.0)\n",
    "color_features = np.nan_to_num(color_features, nan=0.0, posinf=0.0, neginf=0.0)\n",
    "texture_features = np.nan_to_num(texture_features, nan=0.0, posinf=0.0, neginf=0.0)\n",
    "\n",
    "print(f\"FFT features shape: {fft_features.shape}\")\n",
    "print(f\"Color features shape: {color_features.shape}\")\n",
    "print(f\"GLCM features shape: {texture_features.shape}\")\n",
    "print(\"NaN restantes:\", np.isnan(texture_features).sum())"
   ]
  },
  {
   "cell_type": "code",
   "execution_count": 9,
   "id": "bfca39b0",
   "metadata": {},
   "outputs": [
    {
     "name": "stdout",
     "output_type": "stream",
     "text": [
      "Feature matrix shape: (1000, 14)\n"
     ]
    }
   ],
   "source": [
    "X_features = np.concatenate([fft_features, color_features, texture_features], axis=1)\n",
    "\n",
    "print(f\"Feature matrix shape: {X_features.shape}\")"
   ]
  },
  {
   "cell_type": "code",
   "execution_count": 10,
   "id": "da548651",
   "metadata": {},
   "outputs": [
    {
     "name": "stdout",
     "output_type": "stream",
     "text": [
      "✅ Dataset tabular creado y guardado en 'image_features_dataset.csv'\n",
      "   radial_power_spectrum_mean  spectral_slope  spectral_flatness  \\\n",
      "0                4.072967e+06       -3.685701           0.000191   \n",
      "1                4.598615e+06       -2.746608           0.000935   \n",
      "2                2.854014e+06       -2.980498           0.000276   \n",
      "3                6.183829e+06       -3.912426           0.000067   \n",
      "4                2.960350e+06       -4.061807           0.000042   \n",
      "\n",
      "   high_freq_ratio  rgb_corr_mean  rgb_corr_std  cb_kurtosis  cr_kurtosis  \\\n",
      "0         0.000003       0.980740      0.011644     5.467102     3.611281   \n",
      "1         0.000041       0.960358      0.023327     3.273891     3.265245   \n",
      "2         0.000010       0.934752      0.040740     7.163840     5.574917   \n",
      "3         0.000001       0.733996      0.178570     3.526943     3.415970   \n",
      "4         0.000002       0.805398      0.011754     3.413666     2.298576   \n",
      "\n",
      "   cb_residual_kurtosis  cr_residual_kurtosis   contrast  homogeneity  \\\n",
      "0              3.768715              3.905352  23.725550     0.370923   \n",
      "1              5.140650              5.532562  46.187728     0.274351   \n",
      "2              5.717012              5.173243   8.905628     0.722276   \n",
      "3              8.167852              3.963244  25.949091     0.486368   \n",
      "4              3.913915              3.607856  12.566343     0.595583   \n",
      "\n",
      "     energy  correlation  label  \n",
      "0  0.061425     0.946714      1  \n",
      "1  0.057109     0.924209      1  \n",
      "2  0.165074     0.974854      1  \n",
      "3  0.071072     0.955365      1  \n",
      "4  0.091830     0.964062      1  \n"
     ]
    }
   ],
   "source": [
    "fft_cols = list(fft.keys())\n",
    "color_cols = list(color.keys())\n",
    "texture_cols = list(texture.keys())\n",
    "\n",
    "columns = fft_cols + color_cols + texture_cols\n",
    "\n",
    "df_features = pd.DataFrame(X_features, columns=columns)\n",
    "df_features['label'] = y\n",
    "\n",
    "df_features.to_csv(\"image_features_dataset.csv\", index=False)\n",
    "print(\"✅ Dataset tabular creado y guardado en 'image_features_dataset.csv'\")\n",
    "print(df_features.head())"
   ]
  },
  {
   "cell_type": "markdown",
   "id": "07312b0b",
   "metadata": {},
   "source": [
    "## Train/Test Splitting"
   ]
  },
  {
   "cell_type": "markdown",
   "id": "45400aaa",
   "metadata": {},
   "source": [
    "This code segment prepares the feature dataset for supervised learning. It separates the target variable (label) from the feature matrix, splitting the data into training (80%) and testing (20%) subsets while preserving class balance through stratification. This ensures both sets maintain the same proportion of samples per category, preventing bias during model evaluation. The code then defines a 5-fold stratified cross-validation scheme, shuffling data for robustness and reproducibility. Finally, it outputs dataset dimensions and class distributions, providing a quick diagnostic of data balance and confirming the experimental setup for model training."
   ]
  },
  {
   "cell_type": "code",
   "execution_count": 11,
   "id": "37229fd3",
   "metadata": {},
   "outputs": [
    {
     "name": "stdout",
     "output_type": "stream",
     "text": [
      "Train samples: 800\n",
      "Test samples: 200\n",
      "Class distribution (train): [400 400]\n",
      "Class distribution (test): [100 100]\n",
      "\n",
      "Cross-validation setup:\n",
      "StratifiedKFold(n_splits=5, random_state=42, shuffle=True)\n"
     ]
    }
   ],
   "source": [
    "X = df_features.drop(\"label\", axis=1).values\n",
    "y = df_features[\"label\"].values\n",
    "\n",
    "X_train, X_test, y_train, y_test = train_test_split(\n",
    "    X,\n",
    "    y,\n",
    "    test_size=0.2,\n",
    "    random_state=42,\n",
    "    stratify=y\n",
    ")\n",
    "\n",
    "print(f\"Train samples: {X_train.shape[0]}\")\n",
    "print(f\"Test samples: {X_test.shape[0]}\")\n",
    "print(f\"Class distribution (train): {np.bincount(y_train)}\")\n",
    "print(f\"Class distribution (test): {np.bincount(y_test)}\")\n",
    "\n",
    "cv = StratifiedKFold(n_splits=5, shuffle=True, random_state=42)\n",
    "\n",
    "print(\"\\nCross-validation setup:\")\n",
    "print(cv)"
   ]
  },
  {
   "cell_type": "markdown",
   "id": "77d7b1b0",
   "metadata": {},
   "source": [
    "## Classifier Training"
   ]
  },
  {
   "cell_type": "markdown",
   "id": "166a6315",
   "metadata": {},
   "source": [
    "This section performs hyperparameter optimization for a Random Forest classifier using grid search cross-validation. A parameter grid explores combinations of tree count (n_estimators), tree depth (max_depth), and minimum split size (min_samples_split) to identify the most effective model configuration. The search is executed in parallel (n_jobs=-1) for efficiency and evaluated with F1-score to balance precision and recall across classes. The best-performing model from the 5-fold cross-validation (rf_best) is retained for later use, while the optimal parameters and corresponding F1-score are printed to summarize the tuning outcome."
   ]
  },
  {
   "cell_type": "markdown",
   "id": "76590f38",
   "metadata": {},
   "source": [
    "### Random Forest"
   ]
  },
  {
   "cell_type": "code",
   "execution_count": 12,
   "id": "e333193c",
   "metadata": {},
   "outputs": [
    {
     "name": "stdout",
     "output_type": "stream",
     "text": [
      "Fitting 5 folds for each of 27 candidates, totalling 135 fits\n",
      "✅ Best Random Forest params: {'max_depth': 10, 'min_samples_split': 2, 'n_estimators': 500}\n",
      "RF CV F1 Score: 0.9411953674731446\n"
     ]
    }
   ],
   "source": [
    "rf_param_grid = {\n",
    "    'n_estimators': [100, 300, 500],\n",
    "    'max_depth': [None, 10, 20],\n",
    "    'min_samples_split': [2, 5, 10]\n",
    "}\n",
    "\n",
    "rf = RandomForestClassifier(random_state=42, n_jobs=-1)\n",
    "\n",
    "rf_grid = GridSearchCV(\n",
    "    estimator=rf,\n",
    "    param_grid=rf_param_grid,\n",
    "    scoring='f1',\n",
    "    cv=cv,\n",
    "    n_jobs=-1,\n",
    "    verbose=1\n",
    ")\n",
    "\n",
    "rf_grid.fit(X_train, y_train)\n",
    "rf_best = rf_grid.best_estimator_\n",
    "\n",
    "print(\"✅ Best Random Forest params:\", rf_grid.best_params_)\n",
    "print(\"RF CV F1 Score:\", rf_grid.best_score_)"
   ]
  },
  {
   "cell_type": "markdown",
   "id": "7025f5dc",
   "metadata": {},
   "source": [
    "### XGBoost"
   ]
  },
  {
   "cell_type": "code",
   "execution_count": 13,
   "id": "f3c5f61c",
   "metadata": {},
   "outputs": [
    {
     "name": "stdout",
     "output_type": "stream",
     "text": [
      "Fitting 5 folds for each of 108 candidates, totalling 540 fits\n"
     ]
    },
    {
     "name": "stderr",
     "output_type": "stream",
     "text": [
      "c:\\Users\\polpu\\Desktop\\GitHub Repositories\\detect-AI-midjourney-images\\venv\\Lib\\site-packages\\xgboost\\training.py:199: UserWarning: [19:59:37] WARNING: C:\\actions-runner\\_work\\xgboost\\xgboost\\src\\learner.cc:790: \n",
      "Parameters: { \"use_label_encoder\" } are not used.\n",
      "\n",
      "  bst.update(dtrain, iteration=i, fobj=obj)\n"
     ]
    },
    {
     "name": "stdout",
     "output_type": "stream",
     "text": [
      "✅ Best XGBoost params: {'colsample_bytree': 0.8, 'learning_rate': 0.1, 'max_depth': 3, 'n_estimators': 600, 'subsample': 0.8}\n",
      "XGBoost CV Accuracy: 0.9574999999999999\n"
     ]
    }
   ],
   "source": [
    "xgb_param_grid = {\n",
    "    'learning_rate': [0.01, 0.05, 0.1],\n",
    "    'n_estimators': [200, 400, 600],\n",
    "    'max_depth': [3, 5, 8],\n",
    "    'subsample': [0.8, 1.0],\n",
    "    'colsample_bytree': [0.8, 1.0]\n",
    "}\n",
    "\n",
    "xgb = XGBClassifier(\n",
    "    objective='binary:logistic',\n",
    "    eval_metric='logloss',\n",
    "    use_label_encoder=False,\n",
    "    random_state=42,\n",
    "    n_jobs=-1\n",
    ")\n",
    "\n",
    "xgb_grid = GridSearchCV(\n",
    "    estimator=xgb,\n",
    "    param_grid=xgb_param_grid,\n",
    "    scoring='accuracy',\n",
    "    cv=cv,\n",
    "    n_jobs=-1,\n",
    "    verbose=1\n",
    ")\n",
    "\n",
    "xgb_grid.fit(X_train, y_train)\n",
    "xgb_best = xgb_grid.best_estimator_\n",
    "\n",
    "print(\"✅ Best XGBoost params:\", xgb_grid.best_params_)\n",
    "print(\"XGBoost CV Accuracy:\", xgb_grid.best_score_)"
   ]
  },
  {
   "cell_type": "markdown",
   "id": "7549c330",
   "metadata": {},
   "source": []
  },
  {
   "cell_type": "code",
   "execution_count": 14,
   "id": "8fbf710d",
   "metadata": {},
   "outputs": [
    {
     "name": "stdout",
     "output_type": "stream",
     "text": [
      "Fitting 5 folds for each of 16 candidates, totalling 80 fits\n",
      "✅ Best SVM params: {'svm__C': 10, 'svm__gamma': 0.01}\n",
      "SVM CV Accuracy: 0.9512499999999999\n"
     ]
    }
   ],
   "source": [
    "svm_pipeline = Pipeline([\n",
    "    ('scaler', StandardScaler()),\n",
    "    ('svm', SVC(kernel='rbf'))\n",
    "])\n",
    "\n",
    "svm_param_grid = {\n",
    "    'svm__C': [0.1, 1, 10, 100],\n",
    "    'svm__gamma': ['scale', 0.1, 0.01, 0.001]\n",
    "}\n",
    "\n",
    "svm_grid = GridSearchCV(\n",
    "    estimator=svm_pipeline,\n",
    "    param_grid=svm_param_grid,\n",
    "    scoring='accuracy',\n",
    "    cv=cv,\n",
    "    n_jobs=-1,\n",
    "    verbose=1\n",
    ")\n",
    "\n",
    "svm_grid.fit(X_train, y_train)\n",
    "svm_best = svm_grid.best_estimator_\n",
    "\n",
    "print(\"✅ Best SVM params:\", svm_grid.best_params_)\n",
    "print(\"SVM CV Accuracy:\", svm_grid.best_score_)"
   ]
  },
  {
   "cell_type": "markdown",
   "id": "0d17ee30",
   "metadata": {},
   "source": [
    "### Test Performance"
   ]
  },
  {
   "cell_type": "code",
   "execution_count": 15,
   "id": "66746b05",
   "metadata": {},
   "outputs": [
    {
     "name": "stdout",
     "output_type": "stream",
     "text": [
      "\n",
      "=== TEST SET PERFORMANCE ===\n",
      "\n",
      "RandomForest Accuracy: 0.9550\n",
      "              precision    recall  f1-score   support\n",
      "\n",
      "           0       0.96      0.95      0.95       100\n",
      "           1       0.95      0.96      0.96       100\n",
      "\n",
      "    accuracy                           0.95       200\n",
      "   macro avg       0.96      0.95      0.95       200\n",
      "weighted avg       0.96      0.95      0.95       200\n",
      "\n",
      "\n",
      "XGBoost Accuracy: 0.9550\n",
      "              precision    recall  f1-score   support\n",
      "\n",
      "           0       0.95      0.96      0.96       100\n",
      "           1       0.96      0.95      0.95       100\n",
      "\n",
      "    accuracy                           0.95       200\n",
      "   macro avg       0.96      0.95      0.95       200\n",
      "weighted avg       0.96      0.95      0.95       200\n",
      "\n",
      "\n",
      "SVM-RBF Accuracy: 0.9450\n",
      "              precision    recall  f1-score   support\n",
      "\n",
      "           0       0.93      0.96      0.95       100\n",
      "           1       0.96      0.93      0.94       100\n",
      "\n",
      "    accuracy                           0.94       200\n",
      "   macro avg       0.95      0.95      0.94       200\n",
      "weighted avg       0.95      0.94      0.94       200\n",
      "\n"
     ]
    }
   ],
   "source": [
    "models = {\n",
    "    \"RandomForest\": rf_best,\n",
    "    \"XGBoost\": xgb_best,\n",
    "    \"SVM-RBF\": svm_best\n",
    "}\n",
    "\n",
    "print(\"\\n=== TEST SET PERFORMANCE ===\")\n",
    "for name, model in models.items():\n",
    "    y_pred = model.predict(X_test)\n",
    "    acc = accuracy_score(y_test, y_pred)\n",
    "    print(f\"\\n{name} Accuracy: {acc:.4f}\")\n",
    "    print(classification_report(y_test, y_pred))"
   ]
  },
  {
   "cell_type": "markdown",
   "id": "8c3f66e7",
   "metadata": {},
   "source": [
    "## Evaluation & Interpretation"
   ]
  },
  {
   "cell_type": "markdown",
   "id": "6b3c8716",
   "metadata": {},
   "source": [
    "This block evaluates the performance of multiple trained models on the test dataset. For each model in the models dictionary, it generates predictions and computes key classification metrics: accuracy, precision, recall, and F1-score, summarizing the results in a list of dictionaries later converted into a pandas DataFrame. The code also produces a confusion matrix heatmap for each model, providing a visual breakdown of correct and incorrect predictions across classes. Finally, it prints detailed classification reports and displays a compact performance summary, enabling straightforward comparison of model effectiveness and generalization capability."
   ]
  },
  {
   "cell_type": "code",
   "execution_count": 16,
   "id": "4555711d",
   "metadata": {},
   "outputs": [
    {
     "name": "stdout",
     "output_type": "stream",
     "text": [
      "\n",
      "=== RandomForest ===\n",
      "              precision    recall  f1-score   support\n",
      "\n",
      "           0       0.96      0.95      0.95       100\n",
      "           1       0.95      0.96      0.96       100\n",
      "\n",
      "    accuracy                           0.95       200\n",
      "   macro avg       0.96      0.95      0.95       200\n",
      "weighted avg       0.96      0.95      0.95       200\n",
      "\n"
     ]
    },
    {
     "data": {
      "image/png": "[encoded data removed]",
      "text/plain": [
       "<Figure size 400x400 with 1 Axes>"
      ]
     },
     "metadata": {},
     "output_type": "display_data"
    },
    {
     "name": "stdout",
     "output_type": "stream",
     "text": [
      "\n",
      "=== XGBoost ===\n",
      "              precision    recall  f1-score   support\n",
      "\n",
      "           0       0.95      0.96      0.96       100\n",
      "           1       0.96      0.95      0.95       100\n",
      "\n",
      "    accuracy                           0.95       200\n",
      "   macro avg       0.96      0.95      0.95       200\n",
      "weighted avg       0.96      0.95      0.95       200\n",
      "\n"
     ]
    },
    {
     "data": {
      "image/png": "[encoded data removed]",
      "text/plain": [
       "<Figure size 400x400 with 1 Axes>"
      ]
     },
     "metadata": {},
     "output_type": "display_data"
    },
    {
     "name": "stdout",
     "output_type": "stream",
     "text": [
      "\n",
      "=== SVM-RBF ===\n",
      "              precision    recall  f1-score   support\n",
      "\n",
      "           0       0.93      0.96      0.95       100\n",
      "           1       0.96      0.93      0.94       100\n",
      "\n",
      "    accuracy                           0.94       200\n",
      "   macro avg       0.95      0.95      0.94       200\n",
      "weighted avg       0.95      0.94      0.94       200\n",
      "\n"
     ]
    },
    {
     "data": {
      "image/png": "[encoded data removed]",
      "text/plain": [
       "<Figure size 400x400 with 1 Axes>"
      ]
     },
     "metadata": {},
     "output_type": "display_data"
    },
    {
     "name": "stdout",
     "output_type": "stream",
     "text": [
      "\n",
      "📊 Summary of model performance:\n"
     ]
    },
    {
     "data": {
      "text/html": [
       "<div>\n",
       "<style scoped>\n",
       "    .dataframe tbody tr th:only-of-type {\n",
       "        vertical-align: middle;\n",
       "    }\n",
       "\n",
       "    .dataframe tbody tr th {\n",
       "        vertical-align: top;\n",
       "    }\n",
       "\n",
       "    .dataframe thead th {\n",
       "        text-align: right;\n",
       "    }\n",
       "</style>\n",
       "<table border=\"1\" class=\"dataframe\">\n",
       "  <thead>\n",
       "    <tr style=\"text-align: right;\">\n",
       "      <th></th>\n",
       "      <th>Model</th>\n",
       "      <th>Accuracy</th>\n",
       "      <th>Precision</th>\n",
       "      <th>Recall</th>\n",
       "      <th>F1</th>\n",
       "    </tr>\n",
       "  </thead>\n",
       "  <tbody>\n",
       "    <tr>\n",
       "      <th>0</th>\n",
       "      <td>RandomForest</td>\n",
       "      <td>0.955</td>\n",
       "      <td>0.950495</td>\n",
       "      <td>0.96</td>\n",
       "      <td>0.955224</td>\n",
       "    </tr>\n",
       "    <tr>\n",
       "      <th>1</th>\n",
       "      <td>XGBoost</td>\n",
       "      <td>0.955</td>\n",
       "      <td>0.959596</td>\n",
       "      <td>0.95</td>\n",
       "      <td>0.954774</td>\n",
       "    </tr>\n",
       "    <tr>\n",
       "      <th>2</th>\n",
       "      <td>SVM-RBF</td>\n",
       "      <td>0.945</td>\n",
       "      <td>0.958763</td>\n",
       "      <td>0.93</td>\n",
       "      <td>0.944162</td>\n",
       "    </tr>\n",
       "  </tbody>\n",
       "</table>\n",
       "</div>"
      ],
      "text/plain": [
       "          Model  Accuracy  Precision  Recall        F1\n",
       "0  RandomForest     0.955   0.950495    0.96  0.955224\n",
       "1       XGBoost     0.955   0.959596    0.95  0.954774\n",
       "2       SVM-RBF     0.945   0.958763    0.93  0.944162"
      ]
     },
     "metadata": {},
     "output_type": "display_data"
    }
   ],
   "source": [
    "results = []\n",
    "\n",
    "for name, model in models.items():\n",
    "    y_pred = model.predict(X_test)\n",
    "\n",
    "    acc = accuracy_score(y_test, y_pred)\n",
    "    prec = precision_score(y_test, y_pred)\n",
    "    rec = recall_score(y_test, y_pred)\n",
    "    f1 = f1_score(y_test, y_pred)\n",
    "    cm = confusion_matrix(y_test, y_pred)\n",
    "\n",
    "    results.append({\n",
    "        \"Model\": name,\n",
    "        \"Accuracy\": acc,\n",
    "        \"Precision\": prec,\n",
    "        \"Recall\": rec,\n",
    "        \"F1\": f1\n",
    "    })\n",
    "\n",
    "    print(f\"\\n=== {name} ===\")\n",
    "    print(classification_report(y_test, y_pred))\n",
    "    \n",
    "    # Confusion Matrix\n",
    "    plt.figure(figsize=(4, 4))\n",
    "    sns.heatmap(cm, annot=True, fmt=\"d\", cmap=\"Blues\", cbar=False)\n",
    "    plt.title(f\"{name} - Confusion Matrix\")\n",
    "    plt.xlabel(\"Predicted\")\n",
    "    plt.ylabel(\"True\")\n",
    "    plt.show()\n",
    "\n",
    "metrics_df = pd.DataFrame(results)\n",
    "print(\"\\n📊 Summary of model performance:\")\n",
    "display(metrics_df)"
   ]
  },
  {
   "cell_type": "markdown",
   "id": "bc2fd8e3",
   "metadata": {},
   "source": [
    "This section analyzes feature importance and interpretability for the trained ensemble models. First, it extracts the Gini-based feature importances from the best Random Forest model (rf_best) and visualizes the top 10 most influential predictors using a horizontal bar chart. This highlights which extracted features—whether frequency, color, or texture—most strongly contribute to the classification decision.\n",
    "\n",
    "Next, it employs SHAP (SHapley Additive exPlanations) to interpret predictions from the optimized XGBoost model (xgb_best). The SHAP explainer computes per-feature contribution values for the test data, quantifying how each input feature affects model output. The resulting summary plot provides a global view of feature influence and distribution, offering interpretable insights into model behavior and decision drivers beyond standard importance metrics."
   ]
  },
  {
   "cell_type": "code",
   "execution_count": null,
   "id": "b15de3aa",
   "metadata": {},
   "outputs": [
    {
     "ename": "ValueError",
     "evalue": "could not convert string to float: '[5E-1]'",
     "output_type": "error",
     "traceback": [
      "\u001b[31m---------------------------------------------------------------------------\u001b[39m",
      "\u001b[31mValueError\u001b[39m                                Traceback (most recent call last)",
      "\u001b[36mCell\u001b[39m\u001b[36m \u001b[39m\u001b[32mIn[32]\u001b[39m\u001b[32m, line 17\u001b[39m\n\u001b[32m     14\u001b[39m         booster.load_config(json.dumps(config))\n\u001b[32m     16\u001b[39m \u001b[38;5;66;03m# Now create the SHAP explainer\u001b[39;00m\n\u001b[32m---> \u001b[39m\u001b[32m17\u001b[39m explainer = \u001b[43mshap\u001b[49m\u001b[43m.\u001b[49m\u001b[43mTreeExplainer\u001b[49m\u001b[43m(\u001b[49m\u001b[43mbooster\u001b[49m\u001b[43m)\u001b[49m\n\u001b[32m     18\u001b[39m shap_values = explainer.shap_values(X_test)\n\u001b[32m     20\u001b[39m \u001b[38;5;66;03m# SHAP summary plots\u001b[39;00m\n",
      "\u001b[36mFile \u001b[39m\u001b[32mc:\\Users\\polpu\\Desktop\\GitHub Repositories\\detect-AI-midjourney-images\\venv\\Lib\\site-packages\\shap\\explainers\\_tree.py:278\u001b[39m, in \u001b[36mTreeExplainer.__init__\u001b[39m\u001b[34m(self, model, data, model_output, feature_perturbation, feature_names, approximate, link, linearize_link)\u001b[39m\n\u001b[32m    276\u001b[39m \u001b[38;5;28mself\u001b[39m.feature_perturbation = feature_perturbation\n\u001b[32m    277\u001b[39m \u001b[38;5;28mself\u001b[39m.expected_value = \u001b[38;5;28;01mNone\u001b[39;00m\n\u001b[32m--> \u001b[39m\u001b[32m278\u001b[39m \u001b[38;5;28mself\u001b[39m.model = \u001b[43mTreeEnsemble\u001b[49m\u001b[43m(\u001b[49m\u001b[43mmodel\u001b[49m\u001b[43m,\u001b[49m\u001b[43m \u001b[49m\u001b[38;5;28;43mself\u001b[39;49m\u001b[43m.\u001b[49m\u001b[43mdata\u001b[49m\u001b[43m,\u001b[49m\u001b[43m \u001b[49m\u001b[38;5;28;43mself\u001b[39;49m\u001b[43m.\u001b[49m\u001b[43mdata_missing\u001b[49m\u001b[43m,\u001b[49m\u001b[43m \u001b[49m\u001b[43mmodel_output\u001b[49m\u001b[43m)\u001b[49m\n\u001b[32m    279\u001b[39m \u001b[38;5;28mself\u001b[39m.model_output = model_output\n\u001b[32m    280\u001b[39m \u001b[38;5;66;03m# self.model_output = self.model.model_output # this allows the TreeEnsemble to translate model outputs types by how it loads the model\u001b[39;00m\n\u001b[32m    281\u001b[39m \n\u001b[32m    282\u001b[39m \u001b[38;5;66;03m# check for unsupported combinations of feature_perturbation and model_outputs\u001b[39;00m\n",
      "\u001b[36mFile \u001b[39m\u001b[32mc:\\Users\\polpu\\Desktop\\GitHub Repositories\\detect-AI-midjourney-images\\venv\\Lib\\site-packages\\shap\\explainers\\_tree.py:1252\u001b[39m, in \u001b[36mTreeEnsemble.__init__\u001b[39m\u001b[34m(self, model, data, data_missing, model_output)\u001b[39m\n\u001b[32m   1250\u001b[39m \u001b[38;5;28;01melif\u001b[39;00m safe_isinstance(model, \u001b[33m\"\u001b[39m\u001b[33mxgboost.core.Booster\u001b[39m\u001b[33m\"\u001b[39m):\n\u001b[32m   1251\u001b[39m     \u001b[38;5;28mself\u001b[39m.original_model = model\n\u001b[32m-> \u001b[39m\u001b[32m1252\u001b[39m     \u001b[38;5;28;43mself\u001b[39;49m\u001b[43m.\u001b[49m\u001b[43m_set_xgboost_model_attributes\u001b[49m\u001b[43m(\u001b[49m\n\u001b[32m   1253\u001b[39m \u001b[43m        \u001b[49m\u001b[43mdata\u001b[49m\u001b[43m,\u001b[49m\n\u001b[32m   1254\u001b[39m \u001b[43m        \u001b[49m\u001b[43mdata_missing\u001b[49m\u001b[43m,\u001b[49m\n\u001b[32m   1255\u001b[39m \u001b[43m        \u001b[49m\u001b[43mobjective_name_map\u001b[49m\u001b[43m,\u001b[49m\n\u001b[32m   1256\u001b[39m \u001b[43m        \u001b[49m\u001b[43mtree_output_name_map\u001b[49m\u001b[43m,\u001b[49m\n\u001b[32m   1257\u001b[39m \u001b[43m    \u001b[49m\u001b[43m)\u001b[49m\n\u001b[32m   1258\u001b[39m \u001b[38;5;28;01melif\u001b[39;00m safe_isinstance(model, \u001b[33m\"\u001b[39m\u001b[33mxgboost.sklearn.XGBClassifier\u001b[39m\u001b[33m\"\u001b[39m):\n\u001b[32m   1259\u001b[39m     \u001b[38;5;28mself\u001b[39m.input_dtype = np.float32\n",
      "\u001b[36mFile \u001b[39m\u001b[32mc:\\Users\\polpu\\Desktop\\GitHub Repositories\\detect-AI-midjourney-images\\venv\\Lib\\site-packages\\shap\\explainers\\_tree.py:1506\u001b[39m, in \u001b[36mTreeEnsemble._set_xgboost_model_attributes\u001b[39m\u001b[34m(self, data, data_missing, objective_name_map, tree_output_name_map)\u001b[39m\n\u001b[32m   1498\u001b[39m \u001b[38;5;28;01mdef\u001b[39;00m\u001b[38;5;250m \u001b[39m\u001b[34m_set_xgboost_model_attributes\u001b[39m(\n\u001b[32m   1499\u001b[39m     \u001b[38;5;28mself\u001b[39m,\n\u001b[32m   1500\u001b[39m     data,\n\u001b[32m   (...)\u001b[39m\u001b[32m   1503\u001b[39m     tree_output_name_map,\n\u001b[32m   1504\u001b[39m ):\n\u001b[32m   1505\u001b[39m     \u001b[38;5;28mself\u001b[39m.model_type = \u001b[33m\"\u001b[39m\u001b[33mxgboost\u001b[39m\u001b[33m\"\u001b[39m\n\u001b[32m-> \u001b[39m\u001b[32m1506\u001b[39m     loader = \u001b[43mXGBTreeModelLoader\u001b[49m\u001b[43m(\u001b[49m\u001b[38;5;28;43mself\u001b[39;49m\u001b[43m.\u001b[49m\u001b[43moriginal_model\u001b[49m\u001b[43m)\u001b[49m\n\u001b[32m   1508\u001b[39m     \u001b[38;5;28mself\u001b[39m.trees = loader.get_trees(data=data, data_missing=data_missing)\n\u001b[32m   1509\u001b[39m     \u001b[38;5;28mself\u001b[39m.base_offset = loader.base_score\n",
      "\u001b[36mFile \u001b[39m\u001b[32mc:\\Users\\polpu\\Desktop\\GitHub Repositories\\detect-AI-midjourney-images\\venv\\Lib\\site-packages\\shap\\explainers\\_tree.py:2104\u001b[39m, in \u001b[36mXGBTreeModelLoader.__init__\u001b[39m\u001b[34m(self, xgb_model)\u001b[39m\n\u001b[32m   2102\u001b[39m \u001b[38;5;28mself\u001b[39m.n_trees_per_iter = \u001b[38;5;28mint\u001b[39m(diff[\u001b[32m0\u001b[39m])\n\u001b[32m   2103\u001b[39m \u001b[38;5;28mself\u001b[39m.n_targets = n_targets\n\u001b[32m-> \u001b[39m\u001b[32m2104\u001b[39m \u001b[38;5;28mself\u001b[39m.base_score = \u001b[38;5;28;43mfloat\u001b[39;49m\u001b[43m(\u001b[49m\u001b[43mlearner_model_param\u001b[49m\u001b[43m[\u001b[49m\u001b[33;43m\"\u001b[39;49m\u001b[33;43mbase_score\u001b[39;49m\u001b[33;43m\"\u001b[39;49m\u001b[43m]\u001b[49m\u001b[43m)\u001b[49m\n\u001b[32m   2105\u001b[39m \u001b[38;5;28;01massert\u001b[39;00m \u001b[38;5;28mself\u001b[39m.n_trees_per_iter > \u001b[32m0\u001b[39m\n\u001b[32m   2107\u001b[39m \u001b[38;5;28mself\u001b[39m.name_obj = objective[\u001b[33m\"\u001b[39m\u001b[33mname\u001b[39m\u001b[33m\"\u001b[39m]\n",
      "\u001b[31mValueError\u001b[39m: could not convert string to float: '[5E-1]'"
     ]
    }
   ],
   "source": [
    "feature_names = df_features.drop(columns=['label']).columns\n",
    "\n",
    "rf_importances = pd.Series(rf_best.feature_importances_, index=feature_names)\n",
    "rf_importances.sort_values(ascending=False).head(10).plot.barh()\n",
    "plt.title(\"Random Forest - Top 10 Feature Importances (Gini)\")\n",
    "plt.xlabel(\"Importance\")\n",
    "plt.gca().invert_yaxis()\n",
    "plt.show()\n",
    "\n",
    "booster = xgb_best.get_booster()\n",
    "booster.set_attr(base_score=\"0.5\")\n",
    "\n",
    "explainer = shap.TreeExplainer(booster)\n",
    "shap_values = explainer.shap_values(X_test)\n",
    "\n",
    "shap.summary_plot(shap_values, X_test, feature_names=feature_names)\n",
    "shap.summary_plot(shap_values, X_test, feature_names=feature_names)"
   ]
  },
  {
   "cell_type": "code",
   "execution_count": null,
   "id": "268aa30f",
   "metadata": {},
   "outputs": [],
   "source": []
  }
 ],
 "metadata": {
  "kernelspec": {
   "display_name": "venv",
   "language": "python",
   "name": "python3"
  },
  "language_info": {
   "codemirror_mode": {
    "name": "ipython",
    "version": 3
   },
   "file_extension": ".py",
   "mimetype": "text/x-python",
   "name": "python",
   "nbconvert_exporter": "python",
   "pygments_lexer": "ipython3",
   "version": "3.13.7"
  }
 },
 "nbformat": 4,
 "nbformat_minor": 5
}
